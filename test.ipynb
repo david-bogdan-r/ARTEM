{
 "cells": [
  {
   "cell_type": "code",
   "execution_count": 1,
   "metadata": {},
   "outputs": [],
   "source": [
    "from artem import *"
   ]
  },
  {
   "cell_type": "code",
   "execution_count": 2,
   "metadata": {},
   "outputs": [],
   "source": [
    "def artem(m, n):\n",
    "    prim_transform  = get_transform(r_prim[m], q_prim[n])\n",
    "    \n",
    "    q_avg_tree = KDTree(apply_transform(q_avg, prim_transform))\n",
    "    dist = r_avg_tree.sparse_distance_matrix(\n",
    "        q_avg_tree,\n",
    "        matchrange,\n",
    "        p=2,\n",
    "        output_type='ndarray'\n",
    "    )\n",
    "\n",
    "    neighbors = mutual_nearest_neighbors(dist)\n",
    "    size = len(neighbors)\n",
    "    if not sizemin <= size <= sizemax:\n",
    "        return None\n",
    "    \n",
    "    X, Y = vstack([[r_scnd[i], q_scnd[j]] for i, j in neighbors])\n",
    "    scnd_transform = get_transform(X, Y)\n",
    "    \n",
    "    X, Y = vstack([[r_eval[i], q_eval[j]] for i, j in neighbors])\n",
    "    \n",
    "    rmsd = RMSD(X, apply_transform(Y, scnd_transform))\n",
    "    if not rmsdmin <= rmsd <= rmsdmax:\n",
    "        return None\n",
    "    \n",
    "    rmsdsize = rmsd / size\n",
    "    if not rmsdsizemin <= rmsdsize <= rmsdsizemax:\n",
    "        return None\n",
    "    \n",
    "    neighbors = tuple(sorted(neighbors))\n",
    "    return (neighbors, rmsd)"
   ]
  },
  {
   "cell_type": "code",
   "execution_count": 3,
   "metadata": {},
   "outputs": [],
   "source": [
    "argv = [\n",
    "    'r=data/1xjr_2mod.cif',\n",
    "    'q=data/1xjr.pdb',\n",
    "    'rresneg=#1'\n",
    "]"
   ]
  },
  {
   "cell_type": "code",
   "execution_count": 4,
   "metadata": {},
   "outputs": [],
   "source": [
    "if argv[0] in {'--H', '-H', '--h', '-h', '--help', '-help'}:\n",
    "    with open('README.md', 'r') as rdme:\n",
    "        print(*rdme)\n",
    "    exit()\n",
    "else:\n",
    "    kwargs = dict([arg.split('=') for arg in argv])"
   ]
  },
  {
   "cell_type": "code",
   "execution_count": 5,
   "metadata": {},
   "outputs": [],
   "source": [
    "threads = int(kwargs.get('threads', threads))\n",
    "if threads != 1:\n",
    "    mp.set_start_method('fork')     # ARTEM multiprocessing is available only for UNIX-like systems\n",
    "    if threads <= 0:\n",
    "        threads = mp.cpu_count()\n",
    "    else:\n",
    "        threads = min(threads, mp.cpu_count())\n",
    "\n",
    "r       = kwargs.get('r')\n",
    "rres    = kwargs.get('rres', rres)\n",
    "\n",
    "rresneg = kwargs.get('rresneg', rresneg)\n",
    "rneg    = bool(rresneg)\n",
    "rseed   = kwargs.get('rseed', '')\n",
    "\n",
    "rformat = kwargs.get('rformat', None)\n",
    "rname, rext = r.split(os.sep)[-1].split('.')\n",
    "rext = rext.upper()\n",
    "if not rformat:\n",
    "    if rext in pdb.formats:\n",
    "        rformat = rext\n",
    "    else:\n",
    "        rformat = 'PDB'\n",
    "else:\n",
    "    rformat = rformat.upper()\n",
    "\n",
    "q       = kwargs.get('q')\n",
    "qres    = kwargs.get('qres', qres)\n",
    "qresneg = kwargs.get('qresneg', qresneg)\n",
    "qneg    = bool(qresneg)\n",
    "qseed   = kwargs.get('qseed', '')\n",
    "qformat = kwargs.get('qformat', None)\n",
    "qname, qext = q.split(os.sep)[-1].split('.')\n",
    "qext = qext.upper()\n",
    "if not qformat:\n",
    "    if qext in pdb.formats:\n",
    "        qformat = qext\n",
    "    else:\n",
    "        qformat = 'PDB'\n",
    "else:\n",
    "    qformat = qformat.upper()\n",
    "\n",
    "sizemin     = float(kwargs.get('sizemin', sizemin))\n",
    "sizemax     = float(kwargs.get('sizemax', sizemax))\n",
    "\n",
    "rmsdmin     = float(kwargs.get('rmsdmin', rmsdmin))\n",
    "rmsdmax     = float(kwargs.get('rmsdmax', rmsdmax))\n",
    "\n",
    "rmsdsizemin = float(kwargs.get('rmsdsizemin', rmsdsizemin))\n",
    "rmsdsizemax = float(kwargs.get('rmsdsizemax', rmsdsizemax))\n",
    "\n",
    "matchrange  = float(kwargs.get('matchrange', matchrange))"
   ]
  },
  {
   "cell_type": "code",
   "execution_count": 6,
   "metadata": {},
   "outputs": [
    {
     "data": {
      "text/plain": [
       "('', '#1', '')"
      ]
     },
     "execution_count": 6,
     "metadata": {},
     "output_type": "execute_result"
    }
   ],
   "source": [
    "rres, rresneg, rseed"
   ]
  },
  {
   "cell_type": "code",
   "execution_count": 7,
   "metadata": {},
   "outputs": [],
   "source": [
    "rstruct  = pdb.parser(r, rformat, rname)\n",
    "rstruct.drop_duplicates_alt_id(keep=keep)\n",
    "\n",
    "rresstruct = rstruct.get_res_substruct(\n",
    "    (rres, rresneg)[rneg],\n",
    "    rneg\n",
    ")\n",
    "\n",
    "rdata, rnoise = describe(rresstruct)\n",
    "if not rdata:\n",
    "    msg = 'No {}={} nucleotides in the r={} for rseed={}'.format(\n",
    "        ('rres', 'rresneg')[rneg],\n",
    "        (rres, rresneg)[rneg],\n",
    "        r,\n",
    "        rseed\n",
    "    )\n",
    "    raise Exception(msg)\n",
    "else:\n",
    "    r_code, r_prim, r_avg, r_scnd, r_eval = zip(*rdata)\n",
    "    r_avg = np.vstack(r_avg)"
   ]
  },
  {
   "cell_type": "code",
   "execution_count": 30,
   "metadata": {},
   "outputs": [],
   "source": [
    "s = pdb.parser('data/1xjr.cif', 'PDB')"
   ]
  },
  {
   "cell_type": "code",
   "execution_count": null,
   "metadata": {},
   "outputs": [],
   "source": []
  }
 ],
 "metadata": {
  "kernelspec": {
   "display_name": "Python 3.10.4 64-bit",
   "language": "python",
   "name": "python3"
  },
  "language_info": {
   "codemirror_mode": {
    "name": "ipython",
    "version": 3
   },
   "file_extension": ".py",
   "mimetype": "text/x-python",
   "name": "python",
   "nbconvert_exporter": "python",
   "pygments_lexer": "ipython3",
   "version": "3.10.4"
  },
  "orig_nbformat": 4,
  "vscode": {
   "interpreter": {
    "hash": "aee8b7b246df8f9039afb4144a1f6fd8d2ca17a180786b69acc140d282b71a49"
   }
  }
 },
 "nbformat": 4,
 "nbformat_minor": 2
}
