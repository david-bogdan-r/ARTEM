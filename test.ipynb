{
 "cells": [
  {
   "cell_type": "code",
   "execution_count": 1,
   "metadata": {},
   "outputs": [],
   "source": [
    "import sys\n",
    "import os\n",
    "import itertools\n",
    "\n",
    "import pandas as pd\n",
    "import numpy  as np\n",
    "import multiprocessing as mp\n",
    "\n",
    "from lib import nar\n",
    "from lib import pdb\n",
    "from scipy.spatial import KDTree\n",
    "\n",
    "# mp.set_start_method('fork')\n"
   ]
  },
  {
   "cell_type": "code",
   "execution_count": 2,
   "metadata": {},
   "outputs": [],
   "source": [
    "rres    = ''\n",
    "qres    = ''\n",
    "rformat = 'PDB'\n",
    "qformat = 'PDB'\n",
    "\n",
    "rmsdmin     = 0.\n",
    "rmsdmax     = 1e10\n",
    "sizemin     = 0.\n",
    "sizemax     = 1e10\n",
    "rmsdsizemin = 0.\n",
    "rmsdsizemax = 1e10\n",
    "matchrange  = 3.\n",
    "\n",
    "saveto     = None\n",
    "saveformat = 'PDB'\n",
    "\n",
    "threads = 1\n",
    "\n",
    "repr_struct_res = (\n",
    "    nar.five_atom_repr,     # for primary alignment\n",
    "    nar.five_atom_repr,     # to calculate centers of mass\n",
    "    nar.three_atom_repr,    # for secondary alignment\n",
    "    nar.three_atom_repr     # to calculate the RMSD\n",
    ")"
   ]
  },
  {
   "cell_type": "code",
   "execution_count": 3,
   "metadata": {},
   "outputs": [],
   "source": [
    "def get_transform(r:np.ndarray, q:np.ndarray):\n",
    "    r_avg = r.mean(axis=0)\n",
    "    q_avg = q.mean(axis=0)\n",
    "    \n",
    "    r = r - r_avg\n",
    "    q = q - q_avg\n",
    "    \n",
    "    M = np.dot(np.transpose(q), r)\n",
    "    u, s, vh = np.linalg.svd(M)\n",
    "    \n",
    "    rot = np.transpose(np.dot(np.transpose(vh), np.transpose(u)))\n",
    "    if np.linalg.det(rot) < 0:\n",
    "        vh[2] = -vh[2]\n",
    "        rot = np.transpose(np.dot(np.transpose(vh), np.transpose(u)))\n",
    "    tran = r_avg - np.dot(q_avg, rot)\n",
    "    \n",
    "    return rot, tran\n",
    "\n",
    "\n",
    "def RMSD(r:np.ndarray, q:np.ndarray) -> float:\n",
    "    diff = r - q\n",
    "    return np.sqrt(np.sum(np.sum(np.multiply(diff, diff))) / len(r))\n",
    "\n",
    "\n",
    "def apply_transform(coord:np.ndarray, rotran):\n",
    "    rot, tran = rotran\n",
    "    return np.dot(coord, rot) + tran\n",
    "\n",
    "\n",
    "def distances_via_KDtree(rmat:np.ndarray, *qmat:np.ndarray) -> list:\n",
    "    global matchrange\n",
    "    \n",
    "    rtree = KDTree(rmat)\n",
    "    distances = [\n",
    "        rtree.sparse_distance_matrix(\n",
    "            qtree, \n",
    "            matchrange, \n",
    "            p=2,\n",
    "            output_type='ndarray'\n",
    "        )\n",
    "        for qtree in map(KDTree, qmat)\n",
    "    ]\n",
    "    \n",
    "    return distances\n",
    "\n",
    "\n",
    "def mutual_nb(dist) -> list:\n",
    "    U_1 = {}\n",
    "    U_2 = {}\n",
    "    \n",
    "    for e in dist:\n",
    "        v_1, v_2, d = e\n",
    "        if v_1 not in U_1:\n",
    "            U_1[v_1] = v_2, d\n",
    "        else:\n",
    "            if d < U_1[v_1][1]:\n",
    "                U_1[v_1] = v_2, d\n",
    "        \n",
    "        if v_2 not in U_2:\n",
    "            U_2[v_2] = v_1, d\n",
    "        else:\n",
    "            if d < U_2[v_2][1]:\n",
    "                U_2[v_2] = v_1, d\n",
    "    \n",
    "    alt = []\n",
    "    for v_2 in U_2:\n",
    "        v_1, d = U_2[v_2]\n",
    "        if U_1[v_1][0] == v_2:\n",
    "            alt.append((v_1, v_2))\n",
    "    \n",
    "    return alt\n",
    "\n",
    "\n",
    "def vstack(alt):\n",
    "    ref_coord, alg_coord = zip(*alt)\n",
    "    return np.vstack(ref_coord), np.vstack(alg_coord)"
   ]
  },
  {
   "cell_type": "code",
   "execution_count": 4,
   "metadata": {},
   "outputs": [],
   "source": [
    "argv = ['r=data/1xjr.cif', 'q=data/2gdi.cif', 'sizemin=20', 'rmsdmax=3', 'rmsdsizemax=0.25']"
   ]
  },
  {
   "cell_type": "code",
   "execution_count": 5,
   "metadata": {},
   "outputs": [],
   "source": [
    "kwargs = dict([arg.split('=') for arg in argv])\n",
    "\n",
    "r       = kwargs.get('r')\n",
    "q       = kwargs.get('q')\n",
    "rres    = kwargs.get('rres', rres)\n",
    "qres    = kwargs.get('qres', qres)\n",
    "rformat = kwargs.get('rformat', rformat)\n",
    "qformat = kwargs.get('qformat', qformat)\n",
    "\n",
    "rmsdmin     = float(kwargs.get('rmsdmin', rmsdmin))\n",
    "rmsdmax     = float(kwargs.get('rmsdmax', rmsdmax))\n",
    "sizemin     = float(kwargs.get('sizemin', sizemin))\n",
    "sizemax     = float(kwargs.get('sizemax', sizemax))\n",
    "rmsdsizemin = float(kwargs.get('rmsdsizemin', rmsdsizemin))\n",
    "rmsdsizemax = float(kwargs.get('rmsdsizemax', rmsdsizemax))\n",
    "matchrange  = float(kwargs.get('matchrange', matchrange))\n",
    "\n",
    "saveto     = kwargs.get('saveto', saveto)\n",
    "saveres    = kwargs.get('saveres', qres)\n",
    "saveformat = kwargs.get('saveformat', saveformat)\n",
    "\n",
    "threads = int(kwargs.get('threads', threads))\n",
    "\n",
    "rname, rext = r.split(os.sep)[-1].split('.')\n",
    "qname, qext = q.split(os.sep)[-1].split('.')\n",
    "rext = rext.upper()\n",
    "qext = qext.upper()\n",
    "\n",
    "if rext in ['PDB', 'CIF']:\n",
    "    rformat = rext\n",
    "\n",
    "if qext in ['PDB', 'CIF']:\n",
    "    qformat = qext"
   ]
  },
  {
   "cell_type": "code",
   "execution_count": 6,
   "metadata": {},
   "outputs": [],
   "source": [
    "rstruct = pdb.parser(r, rformat, rname)\n",
    "qstruct = pdb.parser(q, qformat, qname)\n",
    "\n",
    "rsstruct = rstruct.get_sub_struct(rres)\n",
    "qsstruct = qstruct.get_sub_struct(qres)\n",
    "\n",
    "rsstruct.drop_duplicates_alt_id(keep='last')\n",
    "qsstruct.drop_duplicates_alt_id(keep='last')"
   ]
  },
  {
   "cell_type": "code",
   "execution_count": 7,
   "metadata": {},
   "outputs": [],
   "source": [
    "# pre proc repr_struct_res\n",
    "prep = []\n",
    "repr_struct = {}\n",
    "for repr_res in repr_struct_res:\n",
    "    if repr_res in prep:\n",
    "        for k in repr_res:\n",
    "            if k in repr_struct:\n",
    "                repr_struct[k].append(repr_res[k])\n",
    "            else:\n",
    "                repr_struct[k] = [repr_res[k]]\n",
    "    else:\n",
    "        for k in repr_res.keys():\n",
    "            repr_res[k] = [pd.Index(v.split()) for v in repr_res[k]]\n",
    "            \n",
    "            if k in repr_struct:\n",
    "                repr_struct[k].append(repr_res[k])\n",
    "            else:\n",
    "                repr_struct[k] = [repr_res[k]]\n",
    "        \n",
    "        prep.append(repr_res)\n",
    "#"
   ]
  },
  {
   "cell_type": "code",
   "execution_count": 8,
   "metadata": {},
   "outputs": [],
   "source": [
    "r_code, r_prim, r_avg, r_scnd, r_rmsd = rsstruct.artem_desc(repr_struct)\n",
    "q_code, q_prim, q_avg, q_scnd, q_rmsd = qsstruct.artem_desc(repr_struct)\n",
    "\n",
    "# mono = len(r_code) <= len(q_code)\n",
    "# if mono:\n",
    "#     s_code, s_prim, s_avg, s_scnd, s_rmsd = r_code, r_prim, r_avg, r_scnd, r_rmsd\n",
    "#     l_code, l_prim, l_avg, l_scnd, l_rmsd = q_code, q_prim, q_avg, q_scnd, q_rmsd\n",
    "# else:\n",
    "#     s_code, s_prim, s_avg, s_scnd, s_rmsd = q_code, q_prim, q_avg, q_scnd, q_rmsd\n",
    "#     l_code, l_prim, l_avg, l_scnd, l_rmsd = r_code, r_prim, r_avg, r_scnd, r_rmsd"
   ]
  },
  {
   "cell_type": "code",
   "execution_count": 10,
   "metadata": {},
   "outputs": [],
   "source": [
    "code_queue = list(itertools.product(r_code, q_code))\n",
    "\n",
    "# Primary alignment\n",
    "r_coord, q_coord = zip(*itertools.product(r_prim, q_prim))\n",
    "transform = map(get_transform, r_coord, q_coord)\n",
    "\n",
    "# Calculation of mutual neighbour's\n",
    "q_avg  = map(apply_transform, itertools.repeat(q_avg), transform)\n",
    "\n",
    "r_tree = KDTree(r_avg)\n",
    "q_tree = map(KDTree, q_avg)\n",
    "dist   = map(\n",
    "    lambda x: r_tree.sparse_distance_matrix(\n",
    "        x,\n",
    "        matchrange,\n",
    "        p=2,\n",
    "        output_type='ndarray'\n",
    "    ),\n",
    "    q_tree\n",
    ")\n",
    "nb = list(map(mutual_nb, dist))"
   ]
  },
  {
   "cell_type": "code",
   "execution_count": 11,
   "metadata": {},
   "outputs": [],
   "source": [
    "nb_scnd = [[(r_scnd[i], q_scnd[j]) for i, j in p]\n",
    "           for p in nb]\n",
    "r_coord, q_coord = zip(*map(vstack, nb_scnd))\n",
    "transform = list(map(get_transform, r_coord, q_coord))"
   ]
  },
  {
   "cell_type": "code",
   "execution_count": 12,
   "metadata": {},
   "outputs": [],
   "source": [
    "nb_rmsd = [[(r_rmsd[i], q_rmsd[j]) for i, j in p]\n",
    "           for p in nb]\n",
    "r_coord, q_coord = zip(*map(vstack, nb_rmsd))\n",
    "q_coord = map(apply_transform, q_coord, transform)\n",
    "rmsd    = map(RMSD, r_coord, q_coord)"
   ]
  },
  {
   "cell_type": "code",
   "execution_count": 13,
   "metadata": {},
   "outputs": [],
   "source": [
    "ans   = []\n",
    "count = itertools.count()\n",
    "size  = map(len, nb)\n",
    "for c, s, r in zip(count, size, rmsd):\n",
    "    if not sizemin <= s <= sizemax:\n",
    "        continue\n",
    "    if not rmsdmin <= r <= rmsdmax:\n",
    "        continue\n",
    "    if not rmsdsizemin <= r / s <= rmsdsizemax:\n",
    "        continue\n",
    "    ans.append((c, s, r, r / s))\n",
    "ans.sort(key=lambda x: x[3])"
   ]
  },
  {
   "cell_type": "code",
   "execution_count": 15,
   "metadata": {},
   "outputs": [
    {
     "name": "stdout",
     "output_type": "stream",
     "text": [
      "0\t1.A.U.42.=1.Y.A.34.\t20\t1.971\t0.099\n",
      "1.A.G.2.=1.Y.A.43.\t1.A.A.3.=1.Y.G.21.\t1.A.G.4.=1.Y.C.22.\t1.A.U.5.=1.Y.C.23.\t1.A.C.7.=1.Y.U.25.\t1.A.A.8.=1.Y.U.26.\t1.A.C.9.=1.Y.C.27.\t1.A.C.10.=1.Y.U.28.\t1.A.G.14.=1.X.G.29.\t1.A.C.15.=1.X.C.30.\t1.A.G.32.=1.X.U.26.\t1.A.U.37.=1.Y.G.29.\t1.A.C.39.=1.Y.G.31.\t1.A.A.40.=1.Y.U.32.\t1.A.G.41.=1.Y.G.33.\t1.A.U.42.=1.Y.A.34.\t1.A.G.43.=1.Y.A.35.\t1.A.A.44.=1.Y.G.36.\t1.A.A.45.=1.Y.G.37.\t1.A.U.46.=1.Y.C.38.\n",
      "1\t1.A.U.5.=1.Y.A.34.\t21\t2.269\t0.108\n",
      "1.A.G.2.=1.Y.G.31.\t1.A.A.3.=1.Y.U.32.\t1.A.G.4.=1.Y.G.33.\t1.A.U.5.=1.Y.A.34.\t1.A.U.6.=1.Y.A.35.\t1.A.C.7.=1.Y.G.36.\t1.A.A.8.=1.Y.G.37.\t1.A.C.9.=1.Y.C.38.\t1.A.C.10.=1.Y.U.39.\t1.A.G.11.=1.Y.C.73.\t1.A.C.18.=1.Y.C.55.\t1.A.U.30.=1.Y.G.83.\t1.A.U.37.=1.Y.G.40.\t1.A.C.39.=1.Y.A.43.\t1.A.A.40.=1.Y.G.21.\t1.A.G.41.=1.Y.C.22.\t1.A.U.42.=1.Y.C.23.\t1.A.A.44.=1.Y.U.25.\t1.A.A.45.=1.Y.U.26.\t1.A.U.46.=1.Y.C.27.\t1.A.U.47.=1.Y.U.28.\n",
      "2\t1.A.G.43.=1.Y.A.35.\t20\t2.271\t0.114\n",
      "1.A.G.2.=1.Y.A.43.\t1.A.A.3.=1.Y.G.21.\t1.A.G.4.=1.Y.C.22.\t1.A.U.5.=1.Y.C.23.\t1.A.C.7.=1.Y.U.25.\t1.A.A.8.=1.Y.U.26.\t1.A.C.9.=1.Y.C.27.\t1.A.C.10.=1.Y.U.28.\t1.A.C.20.=1.X.C.24.\t1.A.G.21.=1.X.U.25.\t1.A.G.36.=1.X.G.31.\t1.A.A.38.=1.Y.C.30.\t1.A.C.39.=1.Y.G.31.\t1.A.A.40.=1.Y.U.32.\t1.A.G.41.=1.Y.G.33.\t1.A.U.42.=1.Y.A.34.\t1.A.G.43.=1.Y.A.35.\t1.A.A.44.=1.Y.G.36.\t1.A.A.45.=1.Y.G.37.\t1.A.U.46.=1.Y.C.38.\n",
      "3\t1.A.C.16.=1.Y.A.34.\t21\t2.483\t0.118\n",
      "1.A.U.5.=1.X.U.26.\t1.A.C.7.=1.X.A.34.\t1.A.A.8.=1.X.G.33.\t1.A.G.13.=1.Y.G.31.\t1.A.G.14.=1.Y.U.32.\t1.A.C.15.=1.Y.G.33.\t1.A.C.16.=1.Y.A.34.\t1.A.A.17.=1.Y.A.35.\t1.A.C.18.=1.Y.G.36.\t1.A.G.19.=1.Y.G.37.\t1.A.G.21.=1.Y.C.24.\t1.A.G.28.=1.Y.U.71.\t1.A.C.31.=1.Y.C.22.\t1.A.G.32.=1.Y.C.23.\t1.A.G.34.=1.Y.U.25.\t1.A.G.35.=1.Y.U.26.\t1.A.G.36.=1.Y.C.27.\t1.A.U.37.=1.Y.U.28.\t1.A.G.41.=1.X.C.30.\t1.A.U.42.=1.X.G.31.\t1.A.U.47.=1.X.C.24.\n",
      "4\t1.A.G.4.=1.X.A.34.\t22\t2.670\t0.121\n",
      "1.A.G.2.=1.X.U.32.\t1.A.A.3.=1.X.G.33.\t1.A.G.4.=1.X.A.34.\t1.A.U.5.=1.X.A.35.\t1.A.U.6.=1.X.G.36.\t1.A.C.7.=1.X.G.37.\t1.A.A.8.=1.X.C.38.\t1.A.C.9.=1.X.U.39.\t1.A.G.14.=1.X.G.19.\t1.A.C.16.=1.X.C.49.\t1.A.A.23.=1.X.U.79.\t1.A.G.28.=1.X.A.53.\t1.A.G.34.=1.X.C.55.\t1.A.U.37.=1.X.A.41.\t1.A.A.38.=1.X.G.40.\t1.A.A.40.=1.X.A.43.\t1.A.G.41.=1.X.G.21.\t1.A.U.42.=1.X.C.22.\t1.A.G.43.=1.X.C.23.\t1.A.A.45.=1.X.U.25.\t1.A.U.46.=1.X.U.26.\t1.A.U.47.=1.X.C.27.\n",
      "5\t1.A.U.42.=1.Y.A.35.\t21\t2.633\t0.125\n",
      "1.A.A.3.=1.Y.A.43.\t1.A.G.4.=1.Y.G.21.\t1.A.U.5.=1.Y.C.22.\t1.A.U.6.=1.Y.C.23.\t1.A.C.7.=1.Y.C.24.\t1.A.A.8.=1.Y.U.25.\t1.A.C.9.=1.Y.U.26.\t1.A.C.10.=1.Y.C.27.\t1.A.C.15.=1.X.G.29.\t1.A.C.16.=1.X.C.30.\t1.A.A.17.=1.X.G.31.\t1.A.G.21.=1.X.A.35.\t1.A.A.29.=1.X.U.26.\t1.A.G.32.=1.X.C.27.\t1.A.U.37.=1.Y.G.29.\t1.A.C.39.=1.Y.U.32.\t1.A.A.40.=1.Y.G.33.\t1.A.G.41.=1.Y.A.34.\t1.A.U.42.=1.Y.A.35.\t1.A.G.43.=1.Y.G.36.\t1.A.A.44.=1.Y.G.37.\n",
      "6\t1.A.C.16.=1.X.G.33.\t20\t2.517\t0.126\n",
      "1.A.U.6.=1.Y.U.25.\t1.A.A.8.=1.Y.A.34.\t1.A.A.12.=1.X.G.29.\t1.A.G.13.=1.X.C.30.\t1.A.G.14.=1.X.G.31.\t1.A.C.15.=1.X.U.32.\t1.A.C.16.=1.X.G.33.\t1.A.A.17.=1.X.A.34.\t1.A.C.18.=1.X.A.35.\t1.A.G.19.=1.X.G.36.\t1.A.G.28.=1.X.C.24.\t1.A.A.29.=1.X.C.23.\t1.A.G.32.=1.X.U.25.\t1.A.G.34.=1.X.U.26.\t1.A.G.35.=1.X.C.27.\t1.A.C.39.=1.Y.G.29.\t1.A.A.40.=1.Y.C.30.\t1.A.G.41.=1.Y.G.31.\t1.A.U.42.=1.Y.U.32.\t1.A.U.47.=1.Y.A.70.\n",
      "7\t1.A.U.5.=1.X.A.34.\t20\t2.563\t0.128\n",
      "1.A.A.3.=1.X.U.32.\t1.A.G.4.=1.X.G.33.\t1.A.U.5.=1.X.A.34.\t1.A.U.6.=1.X.A.35.\t1.A.C.7.=1.X.G.36.\t1.A.A.8.=1.X.G.37.\t1.A.C.9.=1.X.C.38.\t1.A.A.12.=1.X.C.73.\t1.A.G.13.=1.X.G.72.\t1.A.C.18.=1.X.C.55.\t1.A.A.33.=1.X.C.74.\t1.A.U.37.=1.X.G.40.\t1.A.C.39.=1.X.G.21.\t1.A.G.41.=1.X.C.22.\t1.A.U.42.=1.X.C.23.\t1.A.G.43.=1.X.C.24.\t1.A.A.44.=1.X.U.25.\t1.A.A.45.=1.X.U.26.\t1.A.U.46.=1.X.C.27.\t1.A.U.47.=1.X.U.28.\n"
     ]
    }
   ],
   "source": [
    "for c, (i, s, r, rs) in enumerate(ans):\n",
    "    seed_pair = code_queue[i]\n",
    "    alt = sorted(nb[i], key=lambda u: u[0])\n",
    "    r_ind, q_ind = zip(*alt)\n",
    "    \n",
    "    r_scode = [r_code[k] for k in r_ind]\n",
    "    q_scode = [q_code[k] for k in q_ind]\n",
    "    \n",
    "    print('{}\\t{}={}\\t{}\\t{:0.3f}\\t{:0.3f}'.format(c, *seed_pair, s, r, rs))\n",
    "    print('\\t'.join(['{}={}'.format(rc, qc) for rc, qc in zip(r_scode, q_scode)]))"
   ]
  },
  {
   "cell_type": "code",
   "execution_count": 16,
   "metadata": {},
   "outputs": [],
   "source": [
    "ind = [a[0] for a in ans]"
   ]
  },
  {
   "cell_type": "code",
   "execution_count": 18,
   "metadata": {},
   "outputs": [],
   "source": [
    "c = 1\n",
    "for i in ind:\n",
    "    struct = qsstruct.apply_transform(transform[i])\n",
    "    struct.name += '_{}'.format(c)\n",
    "    struct.saveto('results', 'PDB')\n",
    "    c += 1"
   ]
  },
  {
   "cell_type": "code",
   "execution_count": 19,
   "metadata": {},
   "outputs": [
    {
     "data": {
      "text/plain": [
       "'2gdi_8'"
      ]
     },
     "execution_count": 19,
     "metadata": {},
     "output_type": "execute_result"
    }
   ],
   "source": [
    "'{}'.format(struct)"
   ]
  },
  {
   "cell_type": "code",
   "execution_count": null,
   "metadata": {},
   "outputs": [],
   "source": []
  }
 ],
 "metadata": {
  "kernelspec": {
   "display_name": "Python 3.10.4 64-bit",
   "language": "python",
   "name": "python3"
  },
  "language_info": {
   "codemirror_mode": {
    "name": "ipython",
    "version": 3
   },
   "file_extension": ".py",
   "mimetype": "text/x-python",
   "name": "python",
   "nbconvert_exporter": "python",
   "pygments_lexer": "ipython3",
   "version": "3.10.4"
  },
  "orig_nbformat": 4,
  "vscode": {
   "interpreter": {
    "hash": "aee8b7b246df8f9039afb4144a1f6fd8d2ca17a180786b69acc140d282b71a49"
   }
  }
 },
 "nbformat": 4,
 "nbformat_minor": 2
}
