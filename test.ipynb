{
 "cells": [
  {
   "cell_type": "code",
   "execution_count": 1,
   "metadata": {},
   "outputs": [],
   "source": [
    "from artem import *"
   ]
  },
  {
   "cell_type": "code",
   "execution_count": 2,
   "metadata": {},
   "outputs": [],
   "source": [
    "def task(m, n):\n",
    "    transform  = get_transform(r_prim[m], q_prim[n])\n",
    "    \n",
    "    q_avg_tree = KDTree(apply_transform(q_avg, transform))\n",
    "    \n",
    "    dist = r_avg_tree.sparse_distance_matrix(\n",
    "        q_avg_tree,\n",
    "        matchrange,\n",
    "        p=2,\n",
    "        output_type='ndarray'\n",
    "    )\n",
    "    \n",
    "    nb   = mutual_nb(dist)\n",
    "    \n",
    "    size = len(nb)\n",
    "    if not sizemin <= size <= sizemax:\n",
    "        return None\n",
    "    \n",
    "    scnd = vstack([[r_scnd[i], q_scnd[j]] for i, j in nb])\n",
    "    transform  = get_transform(*scnd)\n",
    "    \n",
    "    r_coord, q_coord = vstack([[r_eval[i], q_eval[j]] for i, j in nb])\n",
    "    q_coord_tran = apply_transform(q_coord, transform)\n",
    "    \n",
    "    rmsd = RMSD(r_coord, q_coord_tran)\n",
    "    if not rmsdmin <= rmsd <= rmsdmax:\n",
    "        return None\n",
    "    \n",
    "    rmsdsize = rmsd / size\n",
    "    if not rmsdsizemin <= rmsdsize <= rmsdsizemax:\n",
    "        return None\n",
    "    \n",
    "    nb = tuple(sorted(nb))\n",
    "    return [size, rmsd, rmsdsize, nb, transform]"
   ]
  },
  {
   "cell_type": "code",
   "execution_count": 3,
   "metadata": {},
   "outputs": [],
   "source": [
    "argv = [\n",
    "    'r=data/1xjr.cif', \n",
    "    'q=data/1xjr.pdb', \n",
    "    # 'rmsdmax=3', \n",
    "    # 'sizemin=20',\n",
    "    # 'saveto=results', \n",
    "    # 'threads=-1',\n",
    "    'qres=/A:A_45'\n",
    "    # 'rres=/X:A_0_100',\n",
    "    # 'rresneg=/X:_100_500',\n",
    "    # 'rseed=/X:A_0_20' \n",
    "]"
   ]
  },
  {
   "cell_type": "code",
   "execution_count": 4,
   "metadata": {},
   "outputs": [],
   "source": [
    "kwargs = dict([arg.split('=') for arg in argv])\n",
    "\n",
    "threads = int(kwargs.get('threads', threads))\n",
    "if threads != 1:\n",
    "    # cur_sys = system()\n",
    "    # Multiprocessing is available only for UNIX-like systems\n",
    "    # if cur_sys in {'Linux', 'Darwin'}:\n",
    "    mp.set_start_method('fork')\n",
    "    if threads < 0:\n",
    "        threads = mp.cpu_count()\n",
    "    else:\n",
    "        threads = min(threads, mp.cpu_count())\n",
    "\n",
    "\n",
    "r       = kwargs.get('r')\n",
    "rres    = kwargs.get('rres', rres)\n",
    "rresneg = kwargs.get('rresneg', rresneg)\n",
    "rseed   = kwargs.get('rseed', rseed)\n",
    "rformat = kwargs.get('rformat', rformat)\n",
    "\n",
    "q       = kwargs.get('q')\n",
    "qres    = kwargs.get('qres', qres)\n",
    "qresneg = kwargs.get('qresneg', qresneg)\n",
    "qseed   = kwargs.get('qseed', qseed)\n",
    "qformat = kwargs.get('qformat', qformat)\n",
    "\n",
    "sizemin     = float(kwargs.get('sizemin', sizemin))\n",
    "sizemax     = float(kwargs.get('sizemax', sizemax))\n",
    "\n",
    "rmsdmin     = float(kwargs.get('rmsdmin', rmsdmin))\n",
    "rmsdmax     = float(kwargs.get('rmsdmax', rmsdmax))\n",
    "\n",
    "rmsdsizemin = float(kwargs.get('rmsdsizemin', rmsdsizemin))\n",
    "rmsdsizemax = float(kwargs.get('rmsdsizemax', rmsdsizemax))\n",
    "\n",
    "matchrange  = float(kwargs.get('matchrange', matchrange))\n",
    "\n",
    "saveto     = kwargs.get('saveto', saveto)\n",
    "saveres    = kwargs.get('saveres', saveres)\n",
    "\n",
    "rname, rext = r.split(os.sep)[-1].split('.')\n",
    "qname, qext = q.split(os.sep)[-1].split('.')\n",
    "\n",
    "available_format = {'PDB', 'CIF'}\n",
    "\n",
    "rext = rext.upper()\n",
    "if rext in available_format:\n",
    "    rformat = rext\n",
    "\n",
    "qext = qext.upper()\n",
    "if qext in available_format:\n",
    "    qformat = qext\n",
    "\n",
    "saveformat = kwargs.get('saveformat', qformat)"
   ]
  },
  {
   "cell_type": "code",
   "execution_count": 5,
   "metadata": {},
   "outputs": [],
   "source": [
    "rstruct  = pdb.parser(r, rformat, rname)\n",
    "rstruct.drop_duplicates_alt_id(keep=keep)\n",
    "rnegcase = bool(rresneg)\n",
    "rsstruct = rstruct.get_res_substruct(\n",
    "    [rres, rresneg][rnegcase],\n",
    "    rnegcase\n",
    ")\n",
    "rrres, rures = rsstruct.artem_desc(seed_res_repr)\n",
    "rseed_code = rsstruct.get_res_code(rseed)\n",
    "\n",
    "r_code, r_prim, r_avg, r_scnd, r_eval = zip(*rrres)\n",
    "r_avg = np.vstack(r_avg)\n",
    "rseed_code = set(r_code) & set(rseed_code)\n",
    "r_ind = [i for i, code in enumerate(r_code) if code in rseed_code]"
   ]
  },
  {
   "cell_type": "code",
   "execution_count": 6,
   "metadata": {},
   "outputs": [
    {
     "ename": "KeyboardInterrupt",
     "evalue": "",
     "output_type": "error",
     "traceback": [
      "\u001b[0;31m---------------------------------------------------------------------------\u001b[0m",
      "\u001b[0;31mKeyboardInterrupt\u001b[0m                         Traceback (most recent call last)",
      "\u001b[1;32m/Users/david/ARTEM/ARTEM/test.ipynb Ячейка 6\u001b[0m in \u001b[0;36m<cell line: 4>\u001b[0;34m()\u001b[0m\n\u001b[1;32m      <a href='vscode-notebook-cell:/Users/david/ARTEM/ARTEM/test.ipynb#X32sZmlsZQ%3D%3D?line=1'>2</a>\u001b[0m qstruct\u001b[39m.\u001b[39mdrop_duplicates_alt_id(keep\u001b[39m=\u001b[39mkeep)\n\u001b[1;32m      <a href='vscode-notebook-cell:/Users/david/ARTEM/ARTEM/test.ipynb#X32sZmlsZQ%3D%3D?line=2'>3</a>\u001b[0m qnegcase \u001b[39m=\u001b[39m \u001b[39mbool\u001b[39m(qresneg)\n\u001b[0;32m----> <a href='vscode-notebook-cell:/Users/david/ARTEM/ARTEM/test.ipynb#X32sZmlsZQ%3D%3D?line=3'>4</a>\u001b[0m qsstruct \u001b[39m=\u001b[39m qstruct\u001b[39m.\u001b[39;49mget_res_substruct(\n\u001b[1;32m      <a href='vscode-notebook-cell:/Users/david/ARTEM/ARTEM/test.ipynb#X32sZmlsZQ%3D%3D?line=4'>5</a>\u001b[0m     [qres, qresneg],\n\u001b[1;32m      <a href='vscode-notebook-cell:/Users/david/ARTEM/ARTEM/test.ipynb#X32sZmlsZQ%3D%3D?line=5'>6</a>\u001b[0m     qnegcase\n\u001b[1;32m      <a href='vscode-notebook-cell:/Users/david/ARTEM/ARTEM/test.ipynb#X32sZmlsZQ%3D%3D?line=6'>7</a>\u001b[0m )\n\u001b[1;32m      <a href='vscode-notebook-cell:/Users/david/ARTEM/ARTEM/test.ipynb#X32sZmlsZQ%3D%3D?line=7'>8</a>\u001b[0m qrres, qures \u001b[39m=\u001b[39m qsstruct\u001b[39m.\u001b[39martem_desc(seed_res_repr)\n\u001b[1;32m     <a href='vscode-notebook-cell:/Users/david/ARTEM/ARTEM/test.ipynb#X32sZmlsZQ%3D%3D?line=9'>10</a>\u001b[0m q_code, q_prim, q_avg, q_scnd, q_eval \u001b[39m=\u001b[39m \u001b[39mzip\u001b[39m(\u001b[39m*\u001b[39mqrres)\n",
      "File \u001b[0;32m~/ARTEM/ARTEM/lib/pdb.py:290\u001b[0m, in \u001b[0;36mStructure.get_res_substruct\u001b[0;34m(self, res, neg)\u001b[0m\n\u001b[1;32m    282\u001b[0m \u001b[39m'''\u001b[39;00m\n\u001b[1;32m    283\u001b[0m \u001b[39mres=[#[modelIdInt]][/[asymIdStr]][:[compIdStr][_seqIdInt1[compIdStr|_seqIdInt2]]\u001b[39;00m\n\u001b[1;32m    284\u001b[0m \u001b[39m\u001b[39;00m\n\u001b[1;32m    285\u001b[0m \u001b[39mReturns a Structure object with residues, which are defined by res string.\u001b[39;00m\n\u001b[1;32m    286\u001b[0m \u001b[39mIf neg is True, the returned structure contains residues that are not defined by res string.\u001b[39;00m\n\u001b[1;32m    287\u001b[0m \u001b[39m'''\u001b[39;00m\n\u001b[1;32m    289\u001b[0m tab \u001b[39m=\u001b[39m \u001b[39mself\u001b[39m\u001b[39m.\u001b[39mtab\n\u001b[0;32m--> 290\u001b[0m msk \u001b[39m=\u001b[39m \u001b[39mself\u001b[39;49m\u001b[39m.\u001b[39;49mget_res_msk(res)\n\u001b[1;32m    291\u001b[0m \u001b[39mif\u001b[39;00m neg:\n\u001b[1;32m    292\u001b[0m     msk \u001b[39m^\u001b[39m\u001b[39m=\u001b[39m\u001b[39mTrue\u001b[39;00m\n",
      "File \u001b[0;32m~/ARTEM/ARTEM/lib/pdb.py:209\u001b[0m, in \u001b[0;36mStructure.get_res_msk\u001b[0;34m(self, res)\u001b[0m\n\u001b[1;32m    207\u001b[0m \u001b[39mdef\u001b[39;00m \u001b[39mget_res_msk\u001b[39m(\u001b[39mself\u001b[39m, res: \u001b[39m'\u001b[39m\u001b[39mstr\u001b[39m\u001b[39m'\u001b[39m) \u001b[39m-\u001b[39m\u001b[39m>\u001b[39m \u001b[39m'\u001b[39m\u001b[39mpd.Series\u001b[39m\u001b[39m'\u001b[39m:\n\u001b[1;32m    208\u001b[0m     tab \u001b[39m=\u001b[39m \u001b[39mself\u001b[39m\u001b[39m.\u001b[39mtab\n\u001b[0;32m--> 209\u001b[0m     spl \u001b[39m=\u001b[39m Structure\u001b[39m.\u001b[39;49m_res_split(res)\n\u001b[1;32m    211\u001b[0m     mod \u001b[39m=\u001b[39m spl[\u001b[39m'\u001b[39m\u001b[39m#\u001b[39m\u001b[39m'\u001b[39m]\n\u001b[1;32m    212\u001b[0m     \u001b[39mif\u001b[39;00m mod:\n",
      "File \u001b[0;32m~/ARTEM/ARTEM/lib/pdb.py:179\u001b[0m, in \u001b[0;36mStructure._res_split\u001b[0;34m(res)\u001b[0m\n\u001b[1;32m    176\u001b[0m c   \u001b[39m=\u001b[39m \u001b[39mnext\u001b[39m(gen, \u001b[39mFalse\u001b[39;00m)\n\u001b[1;32m    178\u001b[0m \u001b[39mwhile\u001b[39;00m c:\n\u001b[0;32m--> 179\u001b[0m     \u001b[39mif\u001b[39;00m c \u001b[39min\u001b[39;00m spl\u001b[39m.\u001b[39;49mkeys():\n\u001b[1;32m    180\u001b[0m         spl[c] \u001b[39m=\u001b[39m \u001b[39m'\u001b[39m\u001b[39m'\u001b[39m\n\u001b[1;32m    181\u001b[0m         cc \u001b[39m=\u001b[39m \u001b[39mnext\u001b[39m(gen, \u001b[39mFalse\u001b[39;00m)\n",
      "\u001b[0;31mKeyboardInterrupt\u001b[0m: "
     ]
    }
   ],
   "source": [
    "qstruct  = pdb.parser(q, qformat, qname)\n",
    "qstruct.drop_duplicates_alt_id(keep=keep)\n",
    "qnegcase = bool(qresneg)\n",
    "qsstruct = qstruct.get_res_substruct(\n",
    "    [qres, qresneg],\n",
    "    qnegcase\n",
    ")\n",
    "qrres, qures = qsstruct.artem_desc(seed_res_repr)\n",
    "\n",
    "q_code, q_prim, q_avg, q_scnd, q_eval = zip(*qrres)\n",
    "q_avg = np.vstack(q_avg)\n",
    "qseed_code = set(q_code) & set(qseed_code)\n",
    "q_ind = [i for i, code in enumerate(q_code) if code in qseed_code]"
   ]
  },
  {
   "cell_type": "code",
   "execution_count": 8,
   "metadata": {},
   "outputs": [
    {
     "data": {
      "text/plain": [
       "{'#': 1, '/': 'A', ':': ['A', 45]}"
      ]
     },
     "execution_count": 8,
     "metadata": {},
     "output_type": "execute_result"
    }
   ],
   "source": [
    "pdb.Structure._res_split(qres)"
   ]
  },
  {
   "cell_type": "code",
   "execution_count": null,
   "metadata": {},
   "outputs": [],
   "source": []
  },
  {
   "cell_type": "code",
   "execution_count": null,
   "metadata": {},
   "outputs": [],
   "source": [
    "qstruct.get_res_substruct(\n",
    "    [qres, qresneg],\n",
    "    qnegcase\n",
    ")"
   ]
  },
  {
   "cell_type": "code",
   "execution_count": 9,
   "metadata": {},
   "outputs": [],
   "source": [
    "res = qres"
   ]
  },
  {
   "cell_type": "code",
   "execution_count": 10,
   "metadata": {},
   "outputs": [],
   "source": [
    "tab = qstruct.tab\n",
    "spl = pdb.Structure._res_split(res)"
   ]
  },
  {
   "cell_type": "code",
   "execution_count": 13,
   "metadata": {},
   "outputs": [],
   "source": [
    "mod = spl['#']\n",
    "if mod:\n",
    "    mod_msk = tab['pdbx_PDB_model_num'].eq(mod)\n",
    "else:\n",
    "    mod_msk = tab['pdbx_PDB_model_num'].astype(bool)"
   ]
  },
  {
   "cell_type": "code",
   "execution_count": 14,
   "metadata": {},
   "outputs": [],
   "source": [
    "chn = spl['/']\n",
    "if chn:\n",
    "    chn_msk = tab['auth_asym_id'].eq(chn)\n",
    "else:\n",
    "    chn_msk = tab['auth_asym_id'].astype(bool)"
   ]
  },
  {
   "cell_type": "code",
   "execution_count": 16,
   "metadata": {},
   "outputs": [],
   "source": [
    "rng  = spl[':']\n",
    "if rng:\n",
    "    case = len(rng)\n",
    "else:\n",
    "    case = 0"
   ]
  },
  {
   "cell_type": "code",
   "execution_count": 18,
   "metadata": {},
   "outputs": [],
   "source": [
    "res, num  = rng\n",
    "if type(num) == int:\n",
    "    if res:\n",
    "        rng_msk = tab['auth_seq_id'].eq(num) \\\n",
    "            & tab['auth_comp_id'].eq(res)\n",
    "    else:\n",
    "        rng_msk = tab['auth_seq_id'].eq(num)\n",
    "else:\n",
    "    # ':N1_numN2' = ':_numN2' even if N1 != N2\n",
    "    dgt = ''\n",
    "    for i, c in enumerate(num):\n",
    "        if c.isdigit():\n",
    "            dgt += c\n",
    "        else:\n",
    "            break\n",
    "    res = num[i:]\n",
    "    num = int(dgt)\n",
    "    rng_msk = tab['auth_seq_id'].eq(num) \\\n",
    "        & tab['auth_comp_id'].eq(res)"
   ]
  },
  {
   "cell_type": "code",
   "execution_count": 19,
   "metadata": {},
   "outputs": [],
   "source": [
    "msk = mod_msk & chn_msk & rng_msk"
   ]
  },
  {
   "cell_type": "code",
   "execution_count": 23,
   "metadata": {},
   "outputs": [],
   "source": [
    "qsstruct = qstruct.get_res_substruct(\n",
    "    [qres, qresneg][qnegcase],\n",
    "    qnegcase\n",
    ")"
   ]
  },
  {
   "cell_type": "code",
   "execution_count": 24,
   "metadata": {},
   "outputs": [
    {
     "data": {
      "text/plain": [
       "<1xjr Structure>"
      ]
     },
     "execution_count": 24,
     "metadata": {},
     "output_type": "execute_result"
    }
   ],
   "source": [
    "qsstruct"
   ]
  },
  {
   "cell_type": "code",
   "execution_count": 25,
   "metadata": {},
   "outputs": [
    {
     "data": {
      "text/plain": [
       "True"
      ]
     },
     "execution_count": 25,
     "metadata": {},
     "output_type": "execute_result"
    }
   ],
   "source": [
    "'GGCCAT' in 'ATGGCCATGGCCCCCAGAACTGAGATCAATAGTACCCGTATTAACGGGTGA'"
   ]
  },
  {
   "cell_type": "code",
   "execution_count": null,
   "metadata": {},
   "outputs": [],
   "source": []
  }
 ],
 "metadata": {
  "kernelspec": {
   "display_name": "Python 3.10.4 64-bit",
   "language": "python",
   "name": "python3"
  },
  "language_info": {
   "codemirror_mode": {
    "name": "ipython",
    "version": 3
   },
   "file_extension": ".py",
   "mimetype": "text/x-python",
   "name": "python",
   "nbconvert_exporter": "python",
   "pygments_lexer": "ipython3",
   "version": "3.10.4"
  },
  "orig_nbformat": 4,
  "vscode": {
   "interpreter": {
    "hash": "aee8b7b246df8f9039afb4144a1f6fd8d2ca17a180786b69acc140d282b71a49"
   }
  }
 },
 "nbformat": 4,
 "nbformat_minor": 2
}
